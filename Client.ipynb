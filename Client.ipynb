{
 "cells": [
  {
   "cell_type": "code",
   "execution_count": 7,
   "metadata": {},
   "outputs": [
    {
     "name": "stdout",
     "output_type": "stream",
     "text": [
      "['11.548583:92' '11.231403:14' '7.527273:95' '6.922707:17' '6.576274:88']\n"
     ]
    }
   ],
   "source": [
    "import numpy as np\n",
    "import tritonclient.http as httpclient\n",
    "from PIL import Image\n",
    "from torchvision import transforms\n",
    "from tritonclient.utils import triton_to_np_dtype\n",
    "\n",
    "\n",
    "# preprocessing function\n",
    "def rn50_preprocess(img_path=\"img1.jpg\"):\n",
    "    img = Image.open(img_path)\n",
    "    preprocess = transforms.Compose(\n",
    "        [\n",
    "            transforms.Resize(256),\n",
    "            transforms.CenterCrop(224),\n",
    "            transforms.ToTensor(),\n",
    "            transforms.Normalize(mean=[0.485, 0.456, 0.406], std=[0.229, 0.224, 0.225]),\n",
    "        ]\n",
    "    )\n",
    "    return np.expand_dims(preprocess(img).numpy(), axis=0)\n",
    "\n",
    "\n",
    "transformed_img = rn50_preprocess()\n",
    "\n",
    "# Setting up client\n",
    "client = httpclient.InferenceServerClient(url=\"localhost:8000\")\n",
    "\n",
    "inputs = httpclient.InferInput(\"data_0\", transformed_img.shape, datatype=\"FP32\")\n",
    "inputs.set_data_from_numpy(transformed_img, binary_data=True)\n",
    "\n",
    "outputs = httpclient.InferRequestedOutput(\"fc6_1\", binary_data=True, class_count=1000)\n",
    "\n",
    "# Querying the server\n",
    "results = client.infer(model_name=\"densenet_onnx\", inputs=[inputs], outputs=[outputs])\n",
    "inference_output = results.as_numpy(\"fc6_1\").astype(str)\n",
    "\n",
    "print(np.squeeze(inference_output)[:5])"
   ]
  }
 ],
 "metadata": {
  "kernelspec": {
   "display_name": "training1",
   "language": "python",
   "name": "python3"
  },
  "language_info": {
   "codemirror_mode": {
    "name": "ipython",
    "version": 3
   },
   "file_extension": ".py",
   "mimetype": "text/x-python",
   "name": "python",
   "nbconvert_exporter": "python",
   "pygments_lexer": "ipython3",
   "version": "3.12.9"
  }
 },
 "nbformat": 4,
 "nbformat_minor": 2
}
